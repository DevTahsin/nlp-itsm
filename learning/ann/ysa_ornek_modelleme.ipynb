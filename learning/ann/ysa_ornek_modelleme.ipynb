{
 "cells": [
  {
   "cell_type": "markdown",
   "id": "759e7889",
   "metadata": {},
   "source": [
    "ANN (artificial neural networks)\n",
    "YSA (yapay sinir ağı)\n",
    "\n",
    "Bu notebook da örnek bir yapay sinir ağı modellemesi yapacağız.\n",
    "Veri setimiz bir bankanın müşterilerine ait temel kayıtlar. Müşterinin özlük bilgileri ve banka üzerindeki önceki bir kaç kaydı.\n",
    "Yaşı, Cinsiyeti, Bankadaki total parası, kredi kartı var mı yok mu vb. etiketlerimiz var.\n",
    "Yapmak istediğimiz şey kişinin bu bilgilerine göre kredi verip vermeyeceğimizi tahmin eden bir model yapmak\n",
    "\n",
    "Kullanılacak kütüphaneler\n",
    "numpy - matris işlemleri için\n",
    "matplotlib - işlem sonuçları ve parametreleri grafiksel olarak göstermek için\n",
    "pandas - verileri istediğimiz formatlara getirebilmek için\n",
    "\n",
    "İlk olarak csv formatındaki verilerimizi pandas ile çekelim"
   ]
  },
  {
   "cell_type": "code",
   "execution_count": 1,
   "id": "c24b47b0",
   "metadata": {},
   "outputs": [
    {
     "name": "stdout",
     "output_type": "stream",
     "text": [
      "   RowNumber  CustomerId   Surname  CreditScore Geography  Gender  Age  \\\n",
      "0          1    15634602  Hargrave          619    France  Female   42   \n",
      "1          2    15647311      Hill          608     Spain  Female   41   \n",
      "2          3    15619304      Onio          502    France  Female   42   \n",
      "3          4    15701354      Boni          699    France  Female   39   \n",
      "4          5    15737888  Mitchell          850     Spain  Female   43   \n",
      "\n",
      "   Tenure    Balance  NumOfProducts  HasCrCard  IsActiveMember  \\\n",
      "0       2       0.00              1          1               1   \n",
      "1       1   83807.86              1          0               1   \n",
      "2       8  159660.80              3          1               0   \n",
      "3       1       0.00              2          0               0   \n",
      "4       2  125510.82              1          1               1   \n",
      "\n",
      "   EstimatedSalary  Exited  \n",
      "0        101348.88       1  \n",
      "1        112542.58       0  \n",
      "2        113931.57       1  \n",
      "3         93826.63       0  \n",
      "4         79084.10       0  \n"
     ]
    }
   ],
   "source": [
    "import numpy as np\n",
    "import matplotlib.pyplot as plt\n",
    "import pandas as pd\n",
    "\n",
    "# veriyi çek\n",
    "dataset = pd.read_csv('Churn_Modelling.csv')\n",
    "print(dataset.head())"
   ]
  },
  {
   "cell_type": "markdown",
   "id": "d65f878c",
   "metadata": {},
   "source": [
    "Çektiğimiz veriler üzerinde işimize yaramayan veriler var örneğin surname veya customer id gibi bunları kaldıralım"
   ]
  },
  {
   "cell_type": "code",
   "execution_count": 2,
   "id": "063bb2cf",
   "metadata": {},
   "outputs": [
    {
     "name": "stdout",
     "output_type": "stream",
     "text": [
      "     0       1       2   3  4          5  6  7  8          9\n",
      "0  619  France  Female  42  2        0.0  1  1  1  101348.88\n",
      "1  608   Spain  Female  41  1   83807.86  1  0  1  112542.58\n",
      "2  502  France  Female  42  8   159660.8  3  1  0  113931.57\n",
      "3  699  France  Female  39  1        0.0  2  0  0   93826.63\n",
      "4  850   Spain  Female  43  2  125510.82  1  1  1    79084.1\n",
      "[1 0 1 ... 1 1 0]\n"
     ]
    }
   ],
   "source": [
    "X = pd.DataFrame(dataset.iloc[:, 3:13].values)\n",
    "y = dataset.iloc[:, 13].values\n",
    "\n",
    "print(X.head())\n",
    "print(y)"
   ]
  },
  {
   "cell_type": "markdown",
   "id": "7f7be7dd",
   "metadata": {},
   "source": [
    "Verimizde text alanlarımızı kategorileyip daha rahat işlem yapabilmek için enum yöntemi gibi integer temsilleri olarak dönüştürelim\n",
    "2. indexteki kolon 0 ve 1 0 - kadın 1 - erkek\n",
    "1. indexteki kolon [[0-1],[0-1]] gibi bir matris olarak konum verileri olacak\n",
    "# [0 0] demek France.\n",
    "# [0 1] demek Spain\n",
    "# [1 0] demek Germany"
   ]
  },
  {
   "cell_type": "markdown",
   "id": "a44f78dc",
   "metadata": {},
   "source": [
    "sklearn kütüphanesinden faydalanarak bu etiket dönüşümlerini yapacağız.\n",
    "Onehotencoder bahsettiğimiz matris dönüşümü görevini üstelenen sınıfımız."
   ]
  },
  {
   "cell_type": "code",
   "execution_count": 3,
   "id": "c3bce8be",
   "metadata": {},
   "outputs": [
    {
     "name": "stderr",
     "output_type": "stream",
     "text": [
      "/var/folders/_k/nhq03yk55h3dw_c3jp61qq5m0000gn/T/ipykernel_43446/1174735350.py:4: FutureWarning: In a future version, `df.iloc[:, i] = newvals` will attempt to set the values inplace instead of always setting a new array. To retain the old behavior, use either `df[df.columns[i]] = newvals` or, if columns are non-unique, `df.isetitem(i, newvals)`\n",
      "  X.loc[:, 2] = labelencoder_X_2.fit_transform(X.iloc[:, 2])\n",
      "/var/folders/_k/nhq03yk55h3dw_c3jp61qq5m0000gn/T/ipykernel_43446/1174735350.py:6: FutureWarning: In a future version, `df.iloc[:, i] = newvals` will attempt to set the values inplace instead of always setting a new array. To retain the old behavior, use either `df[df.columns[i]] = newvals` or, if columns are non-unique, `df.isetitem(i, newvals)`\n",
      "  X.loc[:, 1] = labelencoder_X_1.fit_transform(X.iloc[:, 1])\n"
     ]
    }
   ],
   "source": [
    "from sklearn.preprocessing import LabelEncoder, OneHotEncoder\n",
    "from sklearn.compose import ColumnTransformer\n",
    "labelencoder_X_2 = LabelEncoder()\n",
    "X.loc[:, 2] = labelencoder_X_2.fit_transform(X.iloc[:, 2])\n",
    "labelencoder_X_1 = LabelEncoder()\n",
    "X.loc[:, 1] = labelencoder_X_1.fit_transform(X.iloc[:, 1])\n",
    "ct = ColumnTransformer([(\"Country\", OneHotEncoder(), [1])], remainder = 'passthrough')"
   ]
  },
  {
   "cell_type": "code",
   "execution_count": 4,
   "id": "8d184326",
   "metadata": {},
   "outputs": [
    {
     "name": "stdout",
     "output_type": "stream",
     "text": [
      "[[0.0 0.0 619 ... 1 1 101348.88]\n",
      " [0.0 1.0 608 ... 0 1 112542.58]\n",
      " [0.0 0.0 502 ... 1 0 113931.57]\n",
      " ...\n",
      " [0.0 0.0 709 ... 0 1 42085.58]\n",
      " [1.0 0.0 772 ... 1 0 92888.52]\n",
      " [0.0 0.0 792 ... 1 0 38190.78]]\n"
     ]
    }
   ],
   "source": [
    "labelencoder_X_1 = LabelEncoder()\n",
    "X.loc[:, 1] = labelencoder_X_1.fit_transform(X.iloc[:, 1])\n",
    "X = ct.fit_transform(X)\n",
    "X = X[:, 1:]\n",
    "\n",
    "print(X)"
   ]
  },
  {
   "cell_type": "markdown",
   "id": "5a29781f",
   "metadata": {},
   "source": [
    "Artık girdi verisetimizi tamamen hazırladık. Sıra verisetinin performansını ölçmekte.\n",
    "Burada sklearn in train_test_split fonksiyonunu kullanarak verisetinin %20 sini eğitip test sonuçlarını alacağız"
   ]
  },
  {
   "cell_type": "code",
   "execution_count": 5,
   "id": "41292b9a",
   "metadata": {},
   "outputs": [],
   "source": [
    "from sklearn.model_selection import train_test_split\n",
    "X_train, X_test, y_train, y_test = train_test_split(X, y, test_size = 0.2, random_state = 0)"
   ]
  },
  {
   "cell_type": "markdown",
   "id": "7bfae33e",
   "metadata": {},
   "source": [
    "feature scaling\n",
    "veri setimizde görüldüğü üzere verilerimizin birbirine göre farklı ölçeklerde olduğunu görüyoruz.\n",
    "özellikle balance ve estimated_salary, bu durum hesap işlemlerimizi daha uzun sürede yapmamıza neden oluyor.\n",
    "feature scaling bize verilerimizi belirli bir ölçekte normalize etmemizi sağlıyor."
   ]
  },
  {
   "cell_type": "code",
   "execution_count": 6,
   "id": "238852c0",
   "metadata": {},
   "outputs": [],
   "source": [
    "from sklearn.preprocessing import StandardScaler\n",
    "sc = StandardScaler()\n",
    "X_train = sc.fit_transform(X_train)\n",
    "X_test = sc.transform(X_test)"
   ]
  },
  {
   "cell_type": "markdown",
   "id": "4101c6e9",
   "metadata": {},
   "source": [
    "Artık verinin preprocessing(ön işleme) aşamalarını tamamladık. Şimdi sıra yapay sinir ağımızı oluşturmada.\n",
    "Keras(tensorflow) kütüphanesini kullanarak bir yapay sinir ağı oluşturacağız"
   ]
  },
  {
   "cell_type": "code",
   "execution_count": 7,
   "id": "d5da0bd0",
   "metadata": {},
   "outputs": [],
   "source": [
    "import keras\n",
    "from keras.models import Sequential\n",
    "from keras.layers import Dense"
   ]
  },
  {
   "cell_type": "markdown",
   "id": "1b8763b2",
   "metadata": {},
   "source": [
    "Sequential class'i ile bir YSA oluşturuyoruz.\n",
    "Sequential classı yapay sinir ağlarını(sıralı katman) oluşturmak için kullanılır\n"
   ]
  },
  {
   "cell_type": "code",
   "execution_count": 8,
   "id": "d9eb1ddd",
   "metadata": {},
   "outputs": [
    {
     "name": "stdout",
     "output_type": "stream",
     "text": [
      "Metal device set to: Apple M1 Pro\n",
      "\n",
      "systemMemory: 16.00 GB\n",
      "maxCacheSize: 5.33 GB\n",
      "\n"
     ]
    },
    {
     "name": "stderr",
     "output_type": "stream",
     "text": [
      "2022-12-30 16:22:08.106825: I tensorflow/core/common_runtime/pluggable_device/pluggable_device_factory.cc:306] Could not identify NUMA node of platform GPU ID 0, defaulting to 0. Your kernel may not have been built with NUMA support.\n",
      "2022-12-30 16:22:08.107179: I tensorflow/core/common_runtime/pluggable_device/pluggable_device_factory.cc:272] Created TensorFlow device (/job:localhost/replica:0/task:0/device:GPU:0 with 0 MB memory) -> physical PluggableDevice (device: 0, name: METAL, pci bus id: <undefined>)\n"
     ]
    }
   ],
   "source": [
    "classifier = Sequential()"
   ]
  },
  {
   "cell_type": "markdown",
   "id": "30b54f68",
   "metadata": {},
   "source": [
    "Giriş katmanı ve ilk gizli katmanımızı oluşturuyoruz.\n",
    "Dense tensorflow da en sık kullanılan classdır. Dense ANN ye tam bağlı bir katman eklememizi sağlar.\n",
    "add metodu ile katmanı ekliyoruz.\n",
    "output_dim = 6, gizli katmandaki nöron sayısını temsil eder. burada 6 dememizin çok bir anlamı yok\n",
    "activation = 'relu' ise gizli katmanın aktivasyon fonksiyonunu temsil eder. relu fonksiyonu gizli katmanın aktivasyon fonksiyonu olarak kullanılır.\n",
    "input_dim = 11 ise girdideki bağımsız değişkenlerimizi temsil eder. "
   ]
  },
  {
   "cell_type": "code",
   "execution_count": 9,
   "id": "59eda8d9",
   "metadata": {},
   "outputs": [],
   "source": [
    "classifier.add(Dense(6, 'relu', input_dim = 11))   "
   ]
  },
  {
   "cell_type": "markdown",
   "id": "b9b5f12d",
   "metadata": {},
   "source": [
    "ikinci gizli katmanı oluştur"
   ]
  },
  {
   "cell_type": "code",
   "execution_count": 10,
   "id": "25c7e20d",
   "metadata": {},
   "outputs": [],
   "source": [
    "classifier.add(Dense(6, 'relu'))"
   ]
  },
  {
   "cell_type": "markdown",
   "id": "1bac17a8",
   "metadata": {},
   "source": [
    "çıkış katmanı oluştur\n",
    "aktivasyon fonksiyonu sigmoid"
   ]
  },
  {
   "cell_type": "code",
   "execution_count": 11,
   "id": "6cd39ab3",
   "metadata": {},
   "outputs": [],
   "source": [
    "classifier.add(Dense(1, 'sigmoid'))"
   ]
  },
  {
   "cell_type": "markdown",
   "id": "19c3ba43",
   "metadata": {},
   "source": [
    " yapay sinir ağı derle\n",
    "adam stochastic gradient descent algoritmasını kullanır.\n",
    "optimizer eğitim boyunca ağırlıkları günceller ve kaybı azaltır.\n",
    "binary prediction yapmak istediğimiz için loss u binary_crossentropy olarak belirledik.\n",
    "metrics = ['accuracy'] ile doğruluk metrikleri kullanacağımızı belirttik."
   ]
  },
  {
   "cell_type": "code",
   "execution_count": 12,
   "id": "a30e9cd6",
   "metadata": {},
   "outputs": [],
   "source": [
    "classifier.compile('adam', 'binary_crossentropy', ['accuracy'])"
   ]
  },
  {
   "cell_type": "markdown",
   "id": "527e8ea6",
   "metadata": {},
   "source": [
    "yapay sinir ağımızı eğitiyoruz"
   ]
  },
  {
   "cell_type": "code",
   "execution_count": 13,
   "id": "51213822",
   "metadata": {},
   "outputs": [
    {
     "name": "stderr",
     "output_type": "stream",
     "text": [
      "2022-12-30 16:22:08.325459: W tensorflow/core/platform/profile_utils/cpu_utils.cc:128] Failed to get CPU frequency: 0 Hz\n"
     ]
    },
    {
     "name": "stdout",
     "output_type": "stream",
     "text": [
      "Epoch 1/100\n"
     ]
    },
    {
     "name": "stderr",
     "output_type": "stream",
     "text": [
      "2022-12-30 16:22:08.505504: I tensorflow/core/grappler/optimizers/custom_graph_optimizer_registry.cc:114] Plugin optimizer for device_type GPU is enabled.\n"
     ]
    },
    {
     "name": "stdout",
     "output_type": "stream",
     "text": [
      "800/800 [==============================] - 4s 5ms/step - loss: 0.5329 - accuracy: 0.7630\n",
      "Epoch 2/100\n",
      "800/800 [==============================] - 4s 5ms/step - loss: 0.4365 - accuracy: 0.7964\n",
      "Epoch 3/100\n",
      "800/800 [==============================] - 4s 5ms/step - loss: 0.4176 - accuracy: 0.8135\n",
      "Epoch 4/100\n",
      "800/800 [==============================] - 4s 5ms/step - loss: 0.4079 - accuracy: 0.8200\n",
      "Epoch 5/100\n",
      "800/800 [==============================] - 4s 5ms/step - loss: 0.4005 - accuracy: 0.8241\n",
      "Epoch 6/100\n",
      "800/800 [==============================] - 4s 5ms/step - loss: 0.3931 - accuracy: 0.8294\n",
      "Epoch 7/100\n",
      "800/800 [==============================] - 4s 5ms/step - loss: 0.3854 - accuracy: 0.8360\n",
      "Epoch 8/100\n",
      "800/800 [==============================] - 4s 5ms/step - loss: 0.3774 - accuracy: 0.8405\n",
      "Epoch 9/100\n",
      "800/800 [==============================] - 4s 5ms/step - loss: 0.3712 - accuracy: 0.8449\n",
      "Epoch 10/100\n",
      "800/800 [==============================] - 4s 5ms/step - loss: 0.3647 - accuracy: 0.8489\n",
      "Epoch 11/100\n",
      "800/800 [==============================] - 4s 5ms/step - loss: 0.3599 - accuracy: 0.8526\n",
      "Epoch 12/100\n",
      "800/800 [==============================] - 4s 5ms/step - loss: 0.3558 - accuracy: 0.8534\n",
      "Epoch 13/100\n",
      "800/800 [==============================] - 4s 5ms/step - loss: 0.3526 - accuracy: 0.8550\n",
      "Epoch 14/100\n",
      "800/800 [==============================] - 4s 5ms/step - loss: 0.3499 - accuracy: 0.8589\n",
      "Epoch 15/100\n",
      "800/800 [==============================] - 4s 5ms/step - loss: 0.3484 - accuracy: 0.8579\n",
      "Epoch 16/100\n",
      "800/800 [==============================] - 4s 5ms/step - loss: 0.3471 - accuracy: 0.8575\n",
      "Epoch 17/100\n",
      "800/800 [==============================] - 4s 5ms/step - loss: 0.3463 - accuracy: 0.8568\n",
      "Epoch 18/100\n",
      "800/800 [==============================] - 4s 5ms/step - loss: 0.3453 - accuracy: 0.8563\n",
      "Epoch 19/100\n",
      "800/800 [==============================] - 4s 5ms/step - loss: 0.3443 - accuracy: 0.8594\n",
      "Epoch 20/100\n",
      "800/800 [==============================] - 4s 5ms/step - loss: 0.3436 - accuracy: 0.8586\n",
      "Epoch 21/100\n",
      "800/800 [==============================] - 4s 5ms/step - loss: 0.3435 - accuracy: 0.8600\n",
      "Epoch 22/100\n",
      "800/800 [==============================] - 4s 5ms/step - loss: 0.3423 - accuracy: 0.8590\n",
      "Epoch 23/100\n",
      "800/800 [==============================] - 4s 5ms/step - loss: 0.3422 - accuracy: 0.8593\n",
      "Epoch 24/100\n",
      "800/800 [==============================] - 4s 5ms/step - loss: 0.3419 - accuracy: 0.8598\n",
      "Epoch 25/100\n",
      "800/800 [==============================] - 4s 5ms/step - loss: 0.3421 - accuracy: 0.8618\n",
      "Epoch 26/100\n",
      "800/800 [==============================] - 4s 5ms/step - loss: 0.3413 - accuracy: 0.8603\n",
      "Epoch 27/100\n",
      "800/800 [==============================] - 4s 5ms/step - loss: 0.3416 - accuracy: 0.8598\n",
      "Epoch 28/100\n",
      "800/800 [==============================] - 4s 5ms/step - loss: 0.3409 - accuracy: 0.8601\n",
      "Epoch 29/100\n",
      "800/800 [==============================] - 4s 5ms/step - loss: 0.3404 - accuracy: 0.8606\n",
      "Epoch 30/100\n",
      "800/800 [==============================] - 4s 5ms/step - loss: 0.3405 - accuracy: 0.8620\n",
      "Epoch 31/100\n",
      "800/800 [==============================] - 4s 5ms/step - loss: 0.3403 - accuracy: 0.8618\n",
      "Epoch 32/100\n",
      "800/800 [==============================] - 4s 5ms/step - loss: 0.3397 - accuracy: 0.8608\n",
      "Epoch 33/100\n",
      "800/800 [==============================] - 4s 5ms/step - loss: 0.3402 - accuracy: 0.8591\n",
      "Epoch 34/100\n",
      "800/800 [==============================] - 4s 5ms/step - loss: 0.3401 - accuracy: 0.8599\n",
      "Epoch 35/100\n",
      "800/800 [==============================] - 4s 5ms/step - loss: 0.3394 - accuracy: 0.8603\n",
      "Epoch 36/100\n",
      "800/800 [==============================] - 4s 5ms/step - loss: 0.3398 - accuracy: 0.8595\n",
      "Epoch 37/100\n",
      "800/800 [==============================] - 4s 5ms/step - loss: 0.3395 - accuracy: 0.8606\n",
      "Epoch 38/100\n",
      "800/800 [==============================] - 4s 5ms/step - loss: 0.3393 - accuracy: 0.8588\n",
      "Epoch 39/100\n",
      "800/800 [==============================] - 4s 5ms/step - loss: 0.3388 - accuracy: 0.8613\n",
      "Epoch 40/100\n",
      "800/800 [==============================] - 4s 5ms/step - loss: 0.3387 - accuracy: 0.8603\n",
      "Epoch 41/100\n",
      "800/800 [==============================] - 4s 5ms/step - loss: 0.3387 - accuracy: 0.8598\n",
      "Epoch 42/100\n",
      "800/800 [==============================] - 4s 5ms/step - loss: 0.3380 - accuracy: 0.8593\n",
      "Epoch 43/100\n",
      "800/800 [==============================] - 4s 5ms/step - loss: 0.3382 - accuracy: 0.8623\n",
      "Epoch 44/100\n",
      "800/800 [==============================] - 4s 5ms/step - loss: 0.3375 - accuracy: 0.8641\n",
      "Epoch 45/100\n",
      "800/800 [==============================] - 4s 5ms/step - loss: 0.3375 - accuracy: 0.8625\n",
      "Epoch 46/100\n",
      "800/800 [==============================] - 4s 5ms/step - loss: 0.3378 - accuracy: 0.8623\n",
      "Epoch 47/100\n",
      "800/800 [==============================] - 4s 5ms/step - loss: 0.3375 - accuracy: 0.8620\n",
      "Epoch 48/100\n",
      "800/800 [==============================] - 4s 5ms/step - loss: 0.3374 - accuracy: 0.8613\n",
      "Epoch 49/100\n",
      "800/800 [==============================] - 4s 5ms/step - loss: 0.3375 - accuracy: 0.8613\n",
      "Epoch 50/100\n",
      "800/800 [==============================] - 4s 5ms/step - loss: 0.3371 - accuracy: 0.8606\n",
      "Epoch 51/100\n",
      "800/800 [==============================] - 4s 5ms/step - loss: 0.3373 - accuracy: 0.8610\n",
      "Epoch 52/100\n",
      "800/800 [==============================] - 4s 5ms/step - loss: 0.3367 - accuracy: 0.8634\n",
      "Epoch 53/100\n",
      "800/800 [==============================] - 4s 5ms/step - loss: 0.3374 - accuracy: 0.8624\n",
      "Epoch 54/100\n",
      "800/800 [==============================] - 4s 5ms/step - loss: 0.3367 - accuracy: 0.8624\n",
      "Epoch 55/100\n",
      "800/800 [==============================] - 4s 5ms/step - loss: 0.3368 - accuracy: 0.8606\n",
      "Epoch 56/100\n",
      "800/800 [==============================] - 4s 5ms/step - loss: 0.3361 - accuracy: 0.8631\n",
      "Epoch 57/100\n",
      "800/800 [==============================] - 4s 5ms/step - loss: 0.3367 - accuracy: 0.8614\n",
      "Epoch 58/100\n",
      "800/800 [==============================] - 4s 5ms/step - loss: 0.3366 - accuracy: 0.8621\n",
      "Epoch 59/100\n",
      "800/800 [==============================] - 4s 5ms/step - loss: 0.3357 - accuracy: 0.8626\n",
      "Epoch 60/100\n",
      "800/800 [==============================] - 4s 5ms/step - loss: 0.3360 - accuracy: 0.8619\n",
      "Epoch 61/100\n",
      "800/800 [==============================] - 4s 5ms/step - loss: 0.3365 - accuracy: 0.8644\n",
      "Epoch 62/100\n",
      "800/800 [==============================] - 4s 5ms/step - loss: 0.3364 - accuracy: 0.8619\n",
      "Epoch 63/100\n",
      "800/800 [==============================] - 4s 5ms/step - loss: 0.3362 - accuracy: 0.8618\n",
      "Epoch 64/100\n",
      "800/800 [==============================] - 4s 5ms/step - loss: 0.3356 - accuracy: 0.8619\n",
      "Epoch 65/100\n",
      "800/800 [==============================] - 4s 5ms/step - loss: 0.3355 - accuracy: 0.8621\n",
      "Epoch 66/100\n",
      "800/800 [==============================] - 4s 5ms/step - loss: 0.3357 - accuracy: 0.8639\n",
      "Epoch 67/100\n",
      "800/800 [==============================] - 4s 5ms/step - loss: 0.3358 - accuracy: 0.8636\n",
      "Epoch 68/100\n",
      "800/800 [==============================] - 4s 5ms/step - loss: 0.3355 - accuracy: 0.8630\n",
      "Epoch 69/100\n",
      "800/800 [==============================] - 4s 5ms/step - loss: 0.3352 - accuracy: 0.8628\n",
      "Epoch 70/100\n",
      "800/800 [==============================] - 4s 5ms/step - loss: 0.3356 - accuracy: 0.8621\n",
      "Epoch 71/100\n",
      "800/800 [==============================] - 4s 5ms/step - loss: 0.3353 - accuracy: 0.8626\n",
      "Epoch 72/100\n",
      "800/800 [==============================] - 4s 5ms/step - loss: 0.3350 - accuracy: 0.8626\n",
      "Epoch 73/100\n",
      "800/800 [==============================] - 4s 5ms/step - loss: 0.3352 - accuracy: 0.8618\n",
      "Epoch 74/100\n",
      "800/800 [==============================] - 4s 5ms/step - loss: 0.3355 - accuracy: 0.8640\n",
      "Epoch 75/100\n",
      "800/800 [==============================] - 4s 5ms/step - loss: 0.3353 - accuracy: 0.8631\n",
      "Epoch 76/100\n",
      "800/800 [==============================] - 4s 5ms/step - loss: 0.3349 - accuracy: 0.8623\n",
      "Epoch 77/100\n",
      "800/800 [==============================] - 4s 5ms/step - loss: 0.3349 - accuracy: 0.8623\n",
      "Epoch 78/100\n",
      "800/800 [==============================] - 4s 5ms/step - loss: 0.3346 - accuracy: 0.8616\n",
      "Epoch 79/100\n",
      "800/800 [==============================] - 4s 5ms/step - loss: 0.3345 - accuracy: 0.8630\n",
      "Epoch 80/100\n",
      "800/800 [==============================] - 4s 5ms/step - loss: 0.3341 - accuracy: 0.8619\n",
      "Epoch 81/100\n",
      "800/800 [==============================] - 4s 5ms/step - loss: 0.3343 - accuracy: 0.8624\n",
      "Epoch 82/100\n",
      "800/800 [==============================] - 4s 5ms/step - loss: 0.3344 - accuracy: 0.8625\n",
      "Epoch 83/100\n",
      "800/800 [==============================] - 4s 5ms/step - loss: 0.3343 - accuracy: 0.8628\n",
      "Epoch 84/100\n",
      "800/800 [==============================] - 4s 5ms/step - loss: 0.3346 - accuracy: 0.8621\n",
      "Epoch 85/100\n",
      "800/800 [==============================] - 4s 5ms/step - loss: 0.3341 - accuracy: 0.8619\n",
      "Epoch 86/100\n",
      "800/800 [==============================] - 4s 5ms/step - loss: 0.3345 - accuracy: 0.8608\n",
      "Epoch 87/100\n",
      "800/800 [==============================] - 4s 5ms/step - loss: 0.3345 - accuracy: 0.8625\n",
      "Epoch 88/100\n",
      "800/800 [==============================] - 4s 5ms/step - loss: 0.3341 - accuracy: 0.8624\n",
      "Epoch 89/100\n",
      "800/800 [==============================] - 4s 5ms/step - loss: 0.3341 - accuracy: 0.8636\n",
      "Epoch 90/100\n",
      "800/800 [==============================] - 4s 5ms/step - loss: 0.3344 - accuracy: 0.8618\n",
      "Epoch 91/100\n",
      "800/800 [==============================] - 4s 5ms/step - loss: 0.3342 - accuracy: 0.8620\n",
      "Epoch 92/100\n",
      "800/800 [==============================] - 4s 5ms/step - loss: 0.3341 - accuracy: 0.8633\n",
      "Epoch 93/100\n",
      "800/800 [==============================] - 4s 5ms/step - loss: 0.3338 - accuracy: 0.8645\n",
      "Epoch 94/100\n",
      "800/800 [==============================] - 4s 5ms/step - loss: 0.3335 - accuracy: 0.8624\n",
      "Epoch 95/100\n",
      "800/800 [==============================] - 4s 5ms/step - loss: 0.3334 - accuracy: 0.8616\n",
      "Epoch 96/100\n",
      "800/800 [==============================] - 4s 5ms/step - loss: 0.3341 - accuracy: 0.8631\n",
      "Epoch 97/100\n",
      "800/800 [==============================] - 4s 5ms/step - loss: 0.3333 - accuracy: 0.8641\n",
      "Epoch 98/100\n",
      "800/800 [==============================] - 4s 5ms/step - loss: 0.3337 - accuracy: 0.8621\n",
      "Epoch 99/100\n",
      "800/800 [==============================] - 4s 5ms/step - loss: 0.3337 - accuracy: 0.8636\n",
      "Epoch 100/100\n",
      "800/800 [==============================] - 4s 5ms/step - loss: 0.3339 - accuracy: 0.8609\n"
     ]
    },
    {
     "data": {
      "text/plain": [
       "<keras.callbacks.History at 0x1646289d0>"
      ]
     },
     "execution_count": 13,
     "metadata": {},
     "output_type": "execute_result"
    }
   ],
   "source": [
    "classifier.fit(X_train, y_train, 10, 100)"
   ]
  },
  {
   "cell_type": "markdown",
   "id": "4a92e66c",
   "metadata": {},
   "source": [
    "eğitilmiş veriye göre tahmin yapıyoruz"
   ]
  },
  {
   "cell_type": "code",
   "execution_count": 14,
   "id": "e1506012",
   "metadata": {},
   "outputs": [
    {
     "name": "stdout",
     "output_type": "stream",
     "text": [
      "63/63 [==============================] - 0s 2ms/step\n"
     ]
    },
    {
     "name": "stderr",
     "output_type": "stream",
     "text": [
      "2022-12-30 16:28:33.406517: I tensorflow/core/grappler/optimizers/custom_graph_optimizer_registry.cc:114] Plugin optimizer for device_type GPU is enabled.\n"
     ]
    }
   ],
   "source": [
    "y_pred = classifier.predict(X_test)\n",
    "y_pred = (y_pred > 0.5)"
   ]
  },
  {
   "cell_type": "markdown",
   "id": "1eda3242",
   "metadata": {},
   "source": [
    "confusion matrix ve accuracy score hesapla\n",
    "confusion matrix kullanmamızın sebebi tahminlerimizin doğruluğunu ölçmek için daha iyi bir gösterim sağlamasıdır.\n",
    "0 ve 1 arasında bir doğruluk payı döner"
   ]
  },
  {
   "cell_type": "code",
   "execution_count": 15,
   "id": "0df30095",
   "metadata": {},
   "outputs": [],
   "source": [
    "from sklearn.metrics import confusion_matrix, accuracy_score"
   ]
  },
  {
   "cell_type": "code",
   "execution_count": 16,
   "id": "bc20a3e7",
   "metadata": {},
   "outputs": [
    {
     "name": "stdout",
     "output_type": "stream",
     "text": [
      "[[1507   88]\n",
      " [ 199  206]]\n",
      "Accuracy score\n",
      "0.8565\n"
     ]
    }
   ],
   "source": [
    "cm = confusion_matrix(y_test, y_pred)\n",
    "print(cm)\n",
    "acc_sc = accuracy_score(y_test,y_pred)\n",
    "print(\"Accuracy score\")\n",
    "print(acc_sc)"
   ]
  }
 ],
 "metadata": {
  "kernelspec": {
   "display_name": "Python 3.9.15",
   "language": "python",
   "name": "python3"
  },
  "language_info": {
   "codemirror_mode": {
    "name": "ipython",
    "version": 3
   },
   "file_extension": ".py",
   "mimetype": "text/x-python",
   "name": "python",
   "nbconvert_exporter": "python",
   "pygments_lexer": "ipython3",
   "version": "3.9.15"
  },
  "vscode": {
   "interpreter": {
    "hash": "a53826e9910fdd83b68f2a7321c239e6b81835096575f9fdc0fa34ce0fbae86e"
   }
  }
 },
 "nbformat": 4,
 "nbformat_minor": 5
}
